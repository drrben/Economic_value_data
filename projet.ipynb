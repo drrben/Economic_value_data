{
 "cells": [
  {
   "cell_type": "code",
   "execution_count": 1,
   "id": "e50e8156-31a0-4fc8-8834-8eb2c8d20ad4",
   "metadata": {},
   "outputs": [],
   "source": [
    "import pandas as pd\n",
    "import seaborn as sns\n",
    "import numpy as np\n",
    "import matplotlib.pyplot as plt"
   ]
  },
  {
   "cell_type": "markdown",
   "id": "6f81be74-856e-4c3a-b5c3-0042fc4c8004",
   "metadata": {
    "jp-MarkdownHeadingCollapsed": true,
    "tags": []
   },
   "source": [
    "## TRACE groupby DAY: idea sea if we can spot patterns created by the 2 datasets"
   ]
  },
  {
   "cell_type": "code",
   "execution_count": 5,
   "id": "068219fd-5ba6-4c70-a78f-cb07caeceb81",
   "metadata": {},
   "outputs": [
    {
     "data": {
      "text/html": [
       "<div>\n",
       "<style scoped>\n",
       "    .dataframe tbody tr th:only-of-type {\n",
       "        vertical-align: middle;\n",
       "    }\n",
       "\n",
       "    .dataframe tbody tr th {\n",
       "        vertical-align: top;\n",
       "    }\n",
       "\n",
       "    .dataframe thead th {\n",
       "        text-align: right;\n",
       "    }\n",
       "</style>\n",
       "<table border=\"1\" class=\"dataframe\">\n",
       "  <thead>\n",
       "    <tr style=\"text-align: right;\">\n",
       "      <th></th>\n",
       "      <th>d</th>\n",
       "      <th>i</th>\n",
       "      <th>m</th>\n",
       "      <th>T</th>\n",
       "      <th>P</th>\n",
       "    </tr>\n",
       "  </thead>\n",
       "  <tbody>\n",
       "    <tr>\n",
       "      <th>0</th>\n",
       "      <td>1</td>\n",
       "      <td>1</td>\n",
       "      <td>1</td>\n",
       "      <td>-1</td>\n",
       "      <td>99.999674</td>\n",
       "    </tr>\n",
       "    <tr>\n",
       "      <th>1</th>\n",
       "      <td>1</td>\n",
       "      <td>2</td>\n",
       "      <td>3</td>\n",
       "      <td>-1</td>\n",
       "      <td>99.999526</td>\n",
       "    </tr>\n",
       "    <tr>\n",
       "      <th>2</th>\n",
       "      <td>1</td>\n",
       "      <td>3</td>\n",
       "      <td>3</td>\n",
       "      <td>-1</td>\n",
       "      <td>99.999904</td>\n",
       "    </tr>\n",
       "    <tr>\n",
       "      <th>3</th>\n",
       "      <td>1</td>\n",
       "      <td>4</td>\n",
       "      <td>2</td>\n",
       "      <td>-1</td>\n",
       "      <td>99.999909</td>\n",
       "    </tr>\n",
       "    <tr>\n",
       "      <th>4</th>\n",
       "      <td>1</td>\n",
       "      <td>5</td>\n",
       "      <td>3</td>\n",
       "      <td>1</td>\n",
       "      <td>100.000275</td>\n",
       "    </tr>\n",
       "    <tr>\n",
       "      <th>...</th>\n",
       "      <td>...</td>\n",
       "      <td>...</td>\n",
       "      <td>...</td>\n",
       "      <td>...</td>\n",
       "      <td>...</td>\n",
       "    </tr>\n",
       "    <tr>\n",
       "      <th>24995</th>\n",
       "      <td>250</td>\n",
       "      <td>96</td>\n",
       "      <td>1</td>\n",
       "      <td>-1</td>\n",
       "      <td>102.280724</td>\n",
       "    </tr>\n",
       "    <tr>\n",
       "      <th>24996</th>\n",
       "      <td>250</td>\n",
       "      <td>97</td>\n",
       "      <td>1</td>\n",
       "      <td>-1</td>\n",
       "      <td>102.611294</td>\n",
       "    </tr>\n",
       "    <tr>\n",
       "      <th>24997</th>\n",
       "      <td>250</td>\n",
       "      <td>98</td>\n",
       "      <td>2</td>\n",
       "      <td>-1</td>\n",
       "      <td>102.611294</td>\n",
       "    </tr>\n",
       "    <tr>\n",
       "      <th>24998</th>\n",
       "      <td>250</td>\n",
       "      <td>99</td>\n",
       "      <td>1</td>\n",
       "      <td>-1</td>\n",
       "      <td>102.611294</td>\n",
       "    </tr>\n",
       "    <tr>\n",
       "      <th>24999</th>\n",
       "      <td>250</td>\n",
       "      <td>100</td>\n",
       "      <td>2</td>\n",
       "      <td>-1</td>\n",
       "      <td>102.611294</td>\n",
       "    </tr>\n",
       "  </tbody>\n",
       "</table>\n",
       "<p>25000 rows × 5 columns</p>\n",
       "</div>"
      ],
      "text/plain": [
       "         d    i  m  T           P\n",
       "0        1    1  1 -1   99.999674\n",
       "1        1    2  3 -1   99.999526\n",
       "2        1    3  3 -1   99.999904\n",
       "3        1    4  2 -1   99.999909\n",
       "4        1    5  3  1  100.000275\n",
       "...    ...  ... .. ..         ...\n",
       "24995  250   96  1 -1  102.280724\n",
       "24996  250   97  1 -1  102.611294\n",
       "24997  250   98  2 -1  102.611294\n",
       "24998  250   99  1 -1  102.611294\n",
       "24999  250  100  2 -1  102.611294\n",
       "\n",
       "[25000 rows x 5 columns]"
      ]
     },
     "execution_count": 5,
     "metadata": {},
     "output_type": "execute_result"
    }
   ],
   "source": [
    "cols=[\"d\",\"i\",\"m\",\"T\",\"P\"]\n",
    "trace=pd.read_csv(\"TRACE.csv\",names=cols)\n",
    "trace"
   ]
  },
  {
   "cell_type": "code",
   "execution_count": 14,
   "id": "4c462a34-f07b-4e63-b047-2a43b506d150",
   "metadata": {},
   "outputs": [
    {
     "data": {
      "text/html": [
       "<div>\n",
       "<style scoped>\n",
       "    .dataframe tbody tr th:only-of-type {\n",
       "        vertical-align: middle;\n",
       "    }\n",
       "\n",
       "    .dataframe tbody tr th {\n",
       "        vertical-align: top;\n",
       "    }\n",
       "\n",
       "    .dataframe thead th {\n",
       "        text-align: right;\n",
       "    }\n",
       "</style>\n",
       "<table border=\"1\" class=\"dataframe\">\n",
       "  <thead>\n",
       "    <tr style=\"text-align: right;\">\n",
       "      <th></th>\n",
       "      <th>d</th>\n",
       "      <th>i</th>\n",
       "      <th>m</th>\n",
       "      <th>T</th>\n",
       "      <th>P</th>\n",
       "    </tr>\n",
       "  </thead>\n",
       "  <tbody>\n",
       "    <tr>\n",
       "      <th>0</th>\n",
       "      <td>1</td>\n",
       "      <td>50.5</td>\n",
       "      <td>2.07</td>\n",
       "      <td>-0.42</td>\n",
       "      <td>99.999910</td>\n",
       "    </tr>\n",
       "    <tr>\n",
       "      <th>1</th>\n",
       "      <td>2</td>\n",
       "      <td>50.5</td>\n",
       "      <td>1.83</td>\n",
       "      <td>-1.00</td>\n",
       "      <td>100.999505</td>\n",
       "    </tr>\n",
       "    <tr>\n",
       "      <th>2</th>\n",
       "      <td>3</td>\n",
       "      <td>50.5</td>\n",
       "      <td>2.10</td>\n",
       "      <td>0.42</td>\n",
       "      <td>100.000316</td>\n",
       "    </tr>\n",
       "    <tr>\n",
       "      <th>3</th>\n",
       "      <td>4</td>\n",
       "      <td>50.5</td>\n",
       "      <td>1.31</td>\n",
       "      <td>1.00</td>\n",
       "      <td>99.202222</td>\n",
       "    </tr>\n",
       "    <tr>\n",
       "      <th>4</th>\n",
       "      <td>5</td>\n",
       "      <td>50.5</td>\n",
       "      <td>1.60</td>\n",
       "      <td>-1.00</td>\n",
       "      <td>99.801197</td>\n",
       "    </tr>\n",
       "    <tr>\n",
       "      <th>...</th>\n",
       "      <td>...</td>\n",
       "      <td>...</td>\n",
       "      <td>...</td>\n",
       "      <td>...</td>\n",
       "      <td>...</td>\n",
       "    </tr>\n",
       "    <tr>\n",
       "      <th>245</th>\n",
       "      <td>246</td>\n",
       "      <td>50.5</td>\n",
       "      <td>1.59</td>\n",
       "      <td>1.00</td>\n",
       "      <td>101.490076</td>\n",
       "    </tr>\n",
       "    <tr>\n",
       "      <th>246</th>\n",
       "      <td>247</td>\n",
       "      <td>50.5</td>\n",
       "      <td>1.59</td>\n",
       "      <td>1.00</td>\n",
       "      <td>102.498735</td>\n",
       "    </tr>\n",
       "    <tr>\n",
       "      <th>247</th>\n",
       "      <td>248</td>\n",
       "      <td>50.5</td>\n",
       "      <td>1.60</td>\n",
       "      <td>0.42</td>\n",
       "      <td>103.085647</td>\n",
       "    </tr>\n",
       "    <tr>\n",
       "      <th>248</th>\n",
       "      <td>249</td>\n",
       "      <td>50.5</td>\n",
       "      <td>1.89</td>\n",
       "      <td>-0.42</td>\n",
       "      <td>101.923546</td>\n",
       "    </tr>\n",
       "    <tr>\n",
       "      <th>249</th>\n",
       "      <td>250</td>\n",
       "      <td>50.5</td>\n",
       "      <td>1.31</td>\n",
       "      <td>-1.00</td>\n",
       "      <td>102.515429</td>\n",
       "    </tr>\n",
       "  </tbody>\n",
       "</table>\n",
       "<p>250 rows × 5 columns</p>\n",
       "</div>"
      ],
      "text/plain": [
       "       d     i     m     T           P\n",
       "0      1  50.5  2.07 -0.42   99.999910\n",
       "1      2  50.5  1.83 -1.00  100.999505\n",
       "2      3  50.5  2.10  0.42  100.000316\n",
       "3      4  50.5  1.31  1.00   99.202222\n",
       "4      5  50.5  1.60 -1.00   99.801197\n",
       "..   ...   ...   ...   ...         ...\n",
       "245  246  50.5  1.59  1.00  101.490076\n",
       "246  247  50.5  1.59  1.00  102.498735\n",
       "247  248  50.5  1.60  0.42  103.085647\n",
       "248  249  50.5  1.89 -0.42  101.923546\n",
       "249  250  50.5  1.31 -1.00  102.515429\n",
       "\n",
       "[250 rows x 5 columns]"
      ]
     },
     "execution_count": 14,
     "metadata": {},
     "output_type": "execute_result"
    }
   ],
   "source": [
    "trace_group=trace.groupby(\"d\").mean().reset_index()\n",
    "trace_group"
   ]
  },
  {
   "cell_type": "code",
   "execution_count": 13,
   "id": "cbd5f06a-c922-4c62-9b9f-8e9315f7f136",
   "metadata": {},
   "outputs": [
    {
     "data": {
      "text/plain": [
       "<AxesSubplot:xlabel='d'>"
      ]
     },
     "execution_count": 13,
     "metadata": {},
     "output_type": "execute_result"
    },
    {
     "data": {
      "image/png": "[encoded data removed]",
      "text/plain": [
       "<Figure size 432x288 with 1 Axes>"
      ]
     },
     "metadata": {
      "needs_background": "light"
     },
     "output_type": "display_data"
    }
   ],
   "source": [
    "trace_group.plot(\"d\",\"P\")"
   ]
  },
  {
   "cell_type": "code",
   "execution_count": 17,
   "id": "3ad8f055-44a0-4995-a7fd-c3d7ae98e001",
   "metadata": {},
   "outputs": [
    {
     "data": {
      "text/html": [
       "<div>\n",
       "<style scoped>\n",
       "    .dataframe tbody tr th:only-of-type {\n",
       "        vertical-align: middle;\n",
       "    }\n",
       "\n",
       "    .dataframe tbody tr th {\n",
       "        vertical-align: top;\n",
       "    }\n",
       "\n",
       "    .dataframe thead th {\n",
       "        text-align: right;\n",
       "    }\n",
       "</style>\n",
       "<table border=\"1\" class=\"dataframe\">\n",
       "  <thead>\n",
       "    <tr style=\"text-align: right;\">\n",
       "      <th></th>\n",
       "      <th>d</th>\n",
       "      <th>i</th>\n",
       "      <th>m</th>\n",
       "      <th>T</th>\n",
       "      <th>P</th>\n",
       "      <th>P_round</th>\n",
       "    </tr>\n",
       "  </thead>\n",
       "  <tbody>\n",
       "    <tr>\n",
       "      <th>0</th>\n",
       "      <td>1</td>\n",
       "      <td>50.5</td>\n",
       "      <td>2.07</td>\n",
       "      <td>-0.42</td>\n",
       "      <td>99.999910</td>\n",
       "      <td>100.0</td>\n",
       "    </tr>\n",
       "    <tr>\n",
       "      <th>1</th>\n",
       "      <td>2</td>\n",
       "      <td>50.5</td>\n",
       "      <td>1.83</td>\n",
       "      <td>-1.00</td>\n",
       "      <td>100.999505</td>\n",
       "      <td>101.0</td>\n",
       "    </tr>\n",
       "    <tr>\n",
       "      <th>2</th>\n",
       "      <td>3</td>\n",
       "      <td>50.5</td>\n",
       "      <td>2.10</td>\n",
       "      <td>0.42</td>\n",
       "      <td>100.000316</td>\n",
       "      <td>100.0</td>\n",
       "    </tr>\n",
       "    <tr>\n",
       "      <th>3</th>\n",
       "      <td>4</td>\n",
       "      <td>50.5</td>\n",
       "      <td>1.31</td>\n",
       "      <td>1.00</td>\n",
       "      <td>99.202222</td>\n",
       "      <td>99.0</td>\n",
       "    </tr>\n",
       "    <tr>\n",
       "      <th>4</th>\n",
       "      <td>5</td>\n",
       "      <td>50.5</td>\n",
       "      <td>1.60</td>\n",
       "      <td>-1.00</td>\n",
       "      <td>99.801197</td>\n",
       "      <td>100.0</td>\n",
       "    </tr>\n",
       "    <tr>\n",
       "      <th>...</th>\n",
       "      <td>...</td>\n",
       "      <td>...</td>\n",
       "      <td>...</td>\n",
       "      <td>...</td>\n",
       "      <td>...</td>\n",
       "      <td>...</td>\n",
       "    </tr>\n",
       "    <tr>\n",
       "      <th>245</th>\n",
       "      <td>246</td>\n",
       "      <td>50.5</td>\n",
       "      <td>1.59</td>\n",
       "      <td>1.00</td>\n",
       "      <td>101.490076</td>\n",
       "      <td>101.0</td>\n",
       "    </tr>\n",
       "    <tr>\n",
       "      <th>246</th>\n",
       "      <td>247</td>\n",
       "      <td>50.5</td>\n",
       "      <td>1.59</td>\n",
       "      <td>1.00</td>\n",
       "      <td>102.498735</td>\n",
       "      <td>102.0</td>\n",
       "    </tr>\n",
       "    <tr>\n",
       "      <th>247</th>\n",
       "      <td>248</td>\n",
       "      <td>50.5</td>\n",
       "      <td>1.60</td>\n",
       "      <td>0.42</td>\n",
       "      <td>103.085647</td>\n",
       "      <td>103.0</td>\n",
       "    </tr>\n",
       "    <tr>\n",
       "      <th>248</th>\n",
       "      <td>249</td>\n",
       "      <td>50.5</td>\n",
       "      <td>1.89</td>\n",
       "      <td>-0.42</td>\n",
       "      <td>101.923546</td>\n",
       "      <td>102.0</td>\n",
       "    </tr>\n",
       "    <tr>\n",
       "      <th>249</th>\n",
       "      <td>250</td>\n",
       "      <td>50.5</td>\n",
       "      <td>1.31</td>\n",
       "      <td>-1.00</td>\n",
       "      <td>102.515429</td>\n",
       "      <td>103.0</td>\n",
       "    </tr>\n",
       "  </tbody>\n",
       "</table>\n",
       "<p>250 rows × 6 columns</p>\n",
       "</div>"
      ],
      "text/plain": [
       "       d     i     m     T           P  P_round\n",
       "0      1  50.5  2.07 -0.42   99.999910    100.0\n",
       "1      2  50.5  1.83 -1.00  100.999505    101.0\n",
       "2      3  50.5  2.10  0.42  100.000316    100.0\n",
       "3      4  50.5  1.31  1.00   99.202222     99.0\n",
       "4      5  50.5  1.60 -1.00   99.801197    100.0\n",
       "..   ...   ...   ...   ...         ...      ...\n",
       "245  246  50.5  1.59  1.00  101.490076    101.0\n",
       "246  247  50.5  1.59  1.00  102.498735    102.0\n",
       "247  248  50.5  1.60  0.42  103.085647    103.0\n",
       "248  249  50.5  1.89 -0.42  101.923546    102.0\n",
       "249  250  50.5  1.31 -1.00  102.515429    103.0\n",
       "\n",
       "[250 rows x 6 columns]"
      ]
     },
     "execution_count": 17,
     "metadata": {},
     "output_type": "execute_result"
    }
   ],
   "source": [
    "trace_group[\"P_round\"]=round(trace_group[\"P\"])\n",
    "trace_group"
   ]
  },
  {
   "cell_type": "markdown",
   "id": "4153c3ec-24b7-4598-8d98-9dbec6984e5e",
   "metadata": {},
   "source": [
    "### try to replicate the random walk of the value"
   ]
  },
  {
   "cell_type": "code",
   "execution_count": 19,
   "id": "4a7395aa-5f2e-4fa5-a7a9-1dd1315a31ec",
   "metadata": {},
   "outputs": [
    {
     "data": {
      "text/plain": [
       "<AxesSubplot:xlabel='d'>"
      ]
     },
     "execution_count": 19,
     "metadata": {},
     "output_type": "execute_result"
    },
    {
     "data": {
      "image/png": "[encoded data removed]",
      "text/plain": [
       "<Figure size 432x288 with 1 Axes>"
      ]
     },
     "metadata": {
      "needs_background": "light"
     },
     "output_type": "display_data"
    }
   ],
   "source": [
    "trace_group.plot(\"d\",\"P_round\")"
   ]
  },
  {
   "cell_type": "code",
   "execution_count": 20,
   "id": "23db8070-9b2a-4c16-9b8b-aa3042d7fb71",
   "metadata": {},
   "outputs": [
    {
     "data": {
      "text/html": [
       "<div>\n",
       "<style scoped>\n",
       "    .dataframe tbody tr th:only-of-type {\n",
       "        vertical-align: middle;\n",
       "    }\n",
       "\n",
       "    .dataframe tbody tr th {\n",
       "        vertical-align: top;\n",
       "    }\n",
       "\n",
       "    .dataframe thead th {\n",
       "        text-align: right;\n",
       "    }\n",
       "</style>\n",
       "<table border=\"1\" class=\"dataframe\">\n",
       "  <thead>\n",
       "    <tr style=\"text-align: right;\">\n",
       "      <th></th>\n",
       "      <th>d</th>\n",
       "      <th>i</th>\n",
       "      <th>m</th>\n",
       "      <th>T</th>\n",
       "      <th>P</th>\n",
       "      <th>P_round</th>\n",
       "      <th>P_res</th>\n",
       "    </tr>\n",
       "  </thead>\n",
       "  <tbody>\n",
       "    <tr>\n",
       "      <th>0</th>\n",
       "      <td>1</td>\n",
       "      <td>50.5</td>\n",
       "      <td>2.07</td>\n",
       "      <td>-0.42</td>\n",
       "      <td>99.999910</td>\n",
       "      <td>100.0</td>\n",
       "      <td>-0.000090</td>\n",
       "    </tr>\n",
       "    <tr>\n",
       "      <th>1</th>\n",
       "      <td>2</td>\n",
       "      <td>50.5</td>\n",
       "      <td>1.83</td>\n",
       "      <td>-1.00</td>\n",
       "      <td>100.999505</td>\n",
       "      <td>101.0</td>\n",
       "      <td>-0.000495</td>\n",
       "    </tr>\n",
       "    <tr>\n",
       "      <th>2</th>\n",
       "      <td>3</td>\n",
       "      <td>50.5</td>\n",
       "      <td>2.10</td>\n",
       "      <td>0.42</td>\n",
       "      <td>100.000316</td>\n",
       "      <td>100.0</td>\n",
       "      <td>0.000316</td>\n",
       "    </tr>\n",
       "    <tr>\n",
       "      <th>3</th>\n",
       "      <td>4</td>\n",
       "      <td>50.5</td>\n",
       "      <td>1.31</td>\n",
       "      <td>1.00</td>\n",
       "      <td>99.202222</td>\n",
       "      <td>99.0</td>\n",
       "      <td>0.202222</td>\n",
       "    </tr>\n",
       "    <tr>\n",
       "      <th>4</th>\n",
       "      <td>5</td>\n",
       "      <td>50.5</td>\n",
       "      <td>1.60</td>\n",
       "      <td>-1.00</td>\n",
       "      <td>99.801197</td>\n",
       "      <td>100.0</td>\n",
       "      <td>-0.198803</td>\n",
       "    </tr>\n",
       "    <tr>\n",
       "      <th>...</th>\n",
       "      <td>...</td>\n",
       "      <td>...</td>\n",
       "      <td>...</td>\n",
       "      <td>...</td>\n",
       "      <td>...</td>\n",
       "      <td>...</td>\n",
       "      <td>...</td>\n",
       "    </tr>\n",
       "    <tr>\n",
       "      <th>245</th>\n",
       "      <td>246</td>\n",
       "      <td>50.5</td>\n",
       "      <td>1.59</td>\n",
       "      <td>1.00</td>\n",
       "      <td>101.490076</td>\n",
       "      <td>101.0</td>\n",
       "      <td>0.490076</td>\n",
       "    </tr>\n",
       "    <tr>\n",
       "      <th>246</th>\n",
       "      <td>247</td>\n",
       "      <td>50.5</td>\n",
       "      <td>1.59</td>\n",
       "      <td>1.00</td>\n",
       "      <td>102.498735</td>\n",
       "      <td>102.0</td>\n",
       "      <td>0.498735</td>\n",
       "    </tr>\n",
       "    <tr>\n",
       "      <th>247</th>\n",
       "      <td>248</td>\n",
       "      <td>50.5</td>\n",
       "      <td>1.60</td>\n",
       "      <td>0.42</td>\n",
       "      <td>103.085647</td>\n",
       "      <td>103.0</td>\n",
       "      <td>0.085647</td>\n",
       "    </tr>\n",
       "    <tr>\n",
       "      <th>248</th>\n",
       "      <td>249</td>\n",
       "      <td>50.5</td>\n",
       "      <td>1.89</td>\n",
       "      <td>-0.42</td>\n",
       "      <td>101.923546</td>\n",
       "      <td>102.0</td>\n",
       "      <td>-0.076454</td>\n",
       "    </tr>\n",
       "    <tr>\n",
       "      <th>249</th>\n",
       "      <td>250</td>\n",
       "      <td>50.5</td>\n",
       "      <td>1.31</td>\n",
       "      <td>-1.00</td>\n",
       "      <td>102.515429</td>\n",
       "      <td>103.0</td>\n",
       "      <td>-0.484571</td>\n",
       "    </tr>\n",
       "  </tbody>\n",
       "</table>\n",
       "<p>250 rows × 7 columns</p>\n",
       "</div>"
      ],
      "text/plain": [
       "       d     i     m     T           P  P_round     P_res\n",
       "0      1  50.5  2.07 -0.42   99.999910    100.0 -0.000090\n",
       "1      2  50.5  1.83 -1.00  100.999505    101.0 -0.000495\n",
       "2      3  50.5  2.10  0.42  100.000316    100.0  0.000316\n",
       "3      4  50.5  1.31  1.00   99.202222     99.0  0.202222\n",
       "4      5  50.5  1.60 -1.00   99.801197    100.0 -0.198803\n",
       "..   ...   ...   ...   ...         ...      ...       ...\n",
       "245  246  50.5  1.59  1.00  101.490076    101.0  0.490076\n",
       "246  247  50.5  1.59  1.00  102.498735    102.0  0.498735\n",
       "247  248  50.5  1.60  0.42  103.085647    103.0  0.085647\n",
       "248  249  50.5  1.89 -0.42  101.923546    102.0 -0.076454\n",
       "249  250  50.5  1.31 -1.00  102.515429    103.0 -0.484571\n",
       "\n",
       "[250 rows x 7 columns]"
      ]
     },
     "execution_count": 20,
     "metadata": {},
     "output_type": "execute_result"
    }
   ],
   "source": [
    "trace_group[\"P_res\"]=trace_group[\"P\"]-trace_group[\"P_round\"]\n",
    "trace_group"
   ]
  },
  {
   "cell_type": "code",
   "execution_count": 21,
   "id": "bc1510dc-a7ca-4cc6-8ed1-4c012147a9fa",
   "metadata": {},
   "outputs": [
    {
     "data": {
      "text/plain": [
       "<AxesSubplot:xlabel='d'>"
      ]
     },
     "execution_count": 21,
     "metadata": {},
     "output_type": "execute_result"
    },
    {
     "data": {
      "image/png": "[encoded data removed]",
      "text/plain": [
       "<Figure size 432x288 with 1 Axes>"
      ]
     },
     "metadata": {
      "needs_background": "light"
     },
     "output_type": "display_data"
    }
   ],
   "source": [
    "trace_group.plot(\"d\",\"P_res\")"
   ]
  },
  {
   "cell_type": "code",
   "execution_count": 23,
   "id": "271a1df2-7b8a-453a-9926-b8726de8164a",
   "metadata": {},
   "outputs": [
    {
     "data": {
      "text/plain": [
       "<AxesSubplot:xlabel='P_res', ylabel='Density'>"
      ]
     },
     "execution_count": 23,
     "metadata": {},
     "output_type": "execute_result"
    },
    {
     "data": {
      "image/png": "[encoded data removed]",
      "text/plain": [
       "<Figure size 432x288 with 1 Axes>"
      ]
     },
     "metadata": {
      "needs_background": "light"
     },
     "output_type": "display_data"
    }
   ],
   "source": [
    "sns.kdeplot(data=trace_group, x=\"P_res\")"
   ]
  },
  {
   "cell_type": "code",
   "execution_count": 26,
   "id": "db2263e2-d3b2-45ff-8deb-5dbc81d80907",
   "metadata": {},
   "outputs": [
    {
     "data": {
      "text/plain": [
       "<AxesSubplot:xlabel='d'>"
      ]
     },
     "execution_count": 26,
     "metadata": {},
     "output_type": "execute_result"
    },
    {
     "data": {
      "image/png": "[encoded data removed]",
      "text/plain": [
       "<Figure size 432x288 with 1 Axes>"
      ]
     },
     "metadata": {
      "needs_background": "light"
     },
     "output_type": "display_data"
    }
   ],
   "source": [
    "trace_group[\"P_res_abs\"]=abs(trace_group[\"P_res\"])\n",
    "trace_group.plot(\"d\",\"P_res_abs\")"
   ]
  },
  {
   "cell_type": "markdown",
   "id": "414f46e7-3593-446f-8760-4ed2fec9a80b",
   "metadata": {},
   "source": [
    "trend may be explained by the adaptation of the dealers"
   ]
  },
  {
   "cell_type": "code",
   "execution_count": 27,
   "id": "a216e09f-1e71-4bf4-86a0-6953dac1282e",
   "metadata": {},
   "outputs": [
    {
     "data": {
      "text/plain": [
       "<AxesSubplot:xlabel='P_res_abs', ylabel='Density'>"
      ]
     },
     "execution_count": 27,
     "metadata": {},
     "output_type": "execute_result"
    },
    {
     "data": {
      "image/png": "[encoded data removed]",
      "text/plain": [
       "<Figure size 432x288 with 1 Axes>"
      ]
     },
     "metadata": {
      "needs_background": "light"
     },
     "output_type": "display_data"
    }
   ],
   "source": [
    "sns.kdeplot(data=trace_group, x=\"P_res_abs\")"
   ]
  },
  {
   "cell_type": "markdown",
   "id": "b22fdd75-9b2e-4321-85ef-bdaf99aa90c5",
   "metadata": {},
   "source": [
    "Idea: <br>\n",
    "0 --> data 1 & 2 give the same signal <br>\n",
    "0.5 --> data 1 & 2 give different signals"
   ]
  },
  {
   "cell_type": "code",
   "execution_count": 29,
   "id": "3c52b3e7-584a-4fc8-a488-feef1873061d",
   "metadata": {},
   "outputs": [
    {
     "data": {
      "text/plain": [
       "<AxesSubplot:xlabel='P_res_abs', ylabel='Count'>"
      ]
     },
     "execution_count": 29,
     "metadata": {},
     "output_type": "execute_result"
    },
    {
     "data": {
      "image/png": "[encoded data removed]",
      "text/plain": [
       "<Figure size 432x288 with 1 Axes>"
      ]
     },
     "metadata": {
      "needs_background": "light"
     },
     "output_type": "display_data"
    }
   ],
   "source": [
    "sns.histplot(data=trace_group, x=\"P_res_abs\")"
   ]
  },
  {
   "cell_type": "markdown",
   "id": "48b5c8f8-273d-43d6-b229-25547f427391",
   "metadata": {},
   "source": [
    "# EDA on data"
   ]
  },
  {
   "cell_type": "code",
   "execution_count": 2,
   "id": "119c5e00-e0c2-45a7-8c65-ee2164764bbb",
   "metadata": {},
   "outputs": [
    {
     "data": {
      "text/html": [
       "<div>\n",
       "<style scoped>\n",
       "    .dataframe tbody tr th:only-of-type {\n",
       "        vertical-align: middle;\n",
       "    }\n",
       "\n",
       "    .dataframe tbody tr th {\n",
       "        vertical-align: top;\n",
       "    }\n",
       "\n",
       "    .dataframe thead th {\n",
       "        text-align: right;\n",
       "    }\n",
       "</style>\n",
       "<table border=\"1\" class=\"dataframe\">\n",
       "  <thead>\n",
       "    <tr style=\"text-align: right;\">\n",
       "      <th></th>\n",
       "      <th>d</th>\n",
       "      <th>s</th>\n",
       "      <th>v</th>\n",
       "    </tr>\n",
       "  </thead>\n",
       "  <tbody>\n",
       "    <tr>\n",
       "      <th>0</th>\n",
       "      <td>1</td>\n",
       "      <td>0</td>\n",
       "      <td>101</td>\n",
       "    </tr>\n",
       "    <tr>\n",
       "      <th>1</th>\n",
       "      <td>2</td>\n",
       "      <td>0</td>\n",
       "      <td>100</td>\n",
       "    </tr>\n",
       "    <tr>\n",
       "      <th>2</th>\n",
       "      <td>3</td>\n",
       "      <td>1</td>\n",
       "      <td>99</td>\n",
       "    </tr>\n",
       "    <tr>\n",
       "      <th>3</th>\n",
       "      <td>4</td>\n",
       "      <td>1</td>\n",
       "      <td>100</td>\n",
       "    </tr>\n",
       "    <tr>\n",
       "      <th>4</th>\n",
       "      <td>5</td>\n",
       "      <td>0</td>\n",
       "      <td>99</td>\n",
       "    </tr>\n",
       "    <tr>\n",
       "      <th>...</th>\n",
       "      <td>...</td>\n",
       "      <td>...</td>\n",
       "      <td>...</td>\n",
       "    </tr>\n",
       "    <tr>\n",
       "      <th>245</th>\n",
       "      <td>246</td>\n",
       "      <td>1</td>\n",
       "      <td>102</td>\n",
       "    </tr>\n",
       "    <tr>\n",
       "      <th>246</th>\n",
       "      <td>247</td>\n",
       "      <td>1</td>\n",
       "      <td>103</td>\n",
       "    </tr>\n",
       "    <tr>\n",
       "      <th>247</th>\n",
       "      <td>248</td>\n",
       "      <td>1</td>\n",
       "      <td>102</td>\n",
       "    </tr>\n",
       "    <tr>\n",
       "      <th>248</th>\n",
       "      <td>249</td>\n",
       "      <td>0</td>\n",
       "      <td>103</td>\n",
       "    </tr>\n",
       "    <tr>\n",
       "      <th>249</th>\n",
       "      <td>250</td>\n",
       "      <td>0</td>\n",
       "      <td>102</td>\n",
       "    </tr>\n",
       "  </tbody>\n",
       "</table>\n",
       "<p>250 rows × 3 columns</p>\n",
       "</div>"
      ],
      "text/plain": [
       "       d  s    v\n",
       "0      1  0  101\n",
       "1      2  0  100\n",
       "2      3  1   99\n",
       "3      4  1  100\n",
       "4      5  0   99\n",
       "..   ... ..  ...\n",
       "245  246  1  102\n",
       "246  247  1  103\n",
       "247  248  1  102\n",
       "248  249  0  103\n",
       "249  250  0  102\n",
       "\n",
       "[250 rows x 3 columns]"
      ]
     },
     "execution_count": 2,
     "metadata": {},
     "output_type": "execute_result"
    }
   ],
   "source": [
    "col_data=[\"d\",\"s\",\"v\"]\n",
    "data1=pd.read_csv(\"Data1.csv\",names=col_data)\n",
    "data1"
   ]
  },
  {
   "cell_type": "code",
   "execution_count": 3,
   "id": "7be2d996-cb06-4ab2-8b97-1a576ceabb49",
   "metadata": {},
   "outputs": [
    {
     "data": {
      "text/html": [
       "<div>\n",
       "<style scoped>\n",
       "    .dataframe tbody tr th:only-of-type {\n",
       "        vertical-align: middle;\n",
       "    }\n",
       "\n",
       "    .dataframe tbody tr th {\n",
       "        vertical-align: top;\n",
       "    }\n",
       "\n",
       "    .dataframe thead th {\n",
       "        text-align: right;\n",
       "    }\n",
       "</style>\n",
       "<table border=\"1\" class=\"dataframe\">\n",
       "  <thead>\n",
       "    <tr style=\"text-align: right;\">\n",
       "      <th></th>\n",
       "      <th>d</th>\n",
       "      <th>s</th>\n",
       "      <th>v</th>\n",
       "      <th>e</th>\n",
       "    </tr>\n",
       "  </thead>\n",
       "  <tbody>\n",
       "    <tr>\n",
       "      <th>0</th>\n",
       "      <td>1</td>\n",
       "      <td>0</td>\n",
       "      <td>101</td>\n",
       "      <td>1.0</td>\n",
       "    </tr>\n",
       "    <tr>\n",
       "      <th>1</th>\n",
       "      <td>2</td>\n",
       "      <td>0</td>\n",
       "      <td>100</td>\n",
       "      <td>0.0</td>\n",
       "    </tr>\n",
       "    <tr>\n",
       "      <th>2</th>\n",
       "      <td>3</td>\n",
       "      <td>1</td>\n",
       "      <td>99</td>\n",
       "      <td>0.0</td>\n",
       "    </tr>\n",
       "    <tr>\n",
       "      <th>3</th>\n",
       "      <td>4</td>\n",
       "      <td>1</td>\n",
       "      <td>100</td>\n",
       "      <td>1.0</td>\n",
       "    </tr>\n",
       "    <tr>\n",
       "      <th>4</th>\n",
       "      <td>5</td>\n",
       "      <td>0</td>\n",
       "      <td>99</td>\n",
       "      <td>0.0</td>\n",
       "    </tr>\n",
       "    <tr>\n",
       "      <th>...</th>\n",
       "      <td>...</td>\n",
       "      <td>...</td>\n",
       "      <td>...</td>\n",
       "      <td>...</td>\n",
       "    </tr>\n",
       "    <tr>\n",
       "      <th>245</th>\n",
       "      <td>246</td>\n",
       "      <td>1</td>\n",
       "      <td>102</td>\n",
       "      <td>1.0</td>\n",
       "    </tr>\n",
       "    <tr>\n",
       "      <th>246</th>\n",
       "      <td>247</td>\n",
       "      <td>1</td>\n",
       "      <td>103</td>\n",
       "      <td>1.0</td>\n",
       "    </tr>\n",
       "    <tr>\n",
       "      <th>247</th>\n",
       "      <td>248</td>\n",
       "      <td>1</td>\n",
       "      <td>102</td>\n",
       "      <td>0.0</td>\n",
       "    </tr>\n",
       "    <tr>\n",
       "      <th>248</th>\n",
       "      <td>249</td>\n",
       "      <td>0</td>\n",
       "      <td>103</td>\n",
       "      <td>1.0</td>\n",
       "    </tr>\n",
       "    <tr>\n",
       "      <th>249</th>\n",
       "      <td>250</td>\n",
       "      <td>0</td>\n",
       "      <td>102</td>\n",
       "      <td>0.0</td>\n",
       "    </tr>\n",
       "  </tbody>\n",
       "</table>\n",
       "<p>250 rows × 4 columns</p>\n",
       "</div>"
      ],
      "text/plain": [
       "       d  s    v    e\n",
       "0      1  0  101  1.0\n",
       "1      2  0  100  0.0\n",
       "2      3  1   99  0.0\n",
       "3      4  1  100  1.0\n",
       "4      5  0   99  0.0\n",
       "..   ... ..  ...  ...\n",
       "245  246  1  102  1.0\n",
       "246  247  1  103  1.0\n",
       "247  248  1  102  0.0\n",
       "248  249  0  103  1.0\n",
       "249  250  0  102  0.0\n",
       "\n",
       "[250 rows x 4 columns]"
      ]
     },
     "execution_count": 3,
     "metadata": {},
     "output_type": "execute_result"
    }
   ],
   "source": [
    "data1[\"e\"]=(data1[\"v\"]-data1[\"v\"].shift(periods=1, fill_value=100)+1)/2\n",
    "data1"
   ]
  },
  {
   "cell_type": "code",
   "execution_count": 4,
   "id": "ff02cb58-792e-4bc3-b4d4-5cabbfd7a350",
   "metadata": {},
   "outputs": [
    {
     "data": {
      "text/html": [
       "<div>\n",
       "<style scoped>\n",
       "    .dataframe tbody tr th:only-of-type {\n",
       "        vertical-align: middle;\n",
       "    }\n",
       "\n",
       "    .dataframe tbody tr th {\n",
       "        vertical-align: top;\n",
       "    }\n",
       "\n",
       "    .dataframe thead th {\n",
       "        text-align: right;\n",
       "    }\n",
       "</style>\n",
       "<table border=\"1\" class=\"dataframe\">\n",
       "  <thead>\n",
       "    <tr style=\"text-align: right;\">\n",
       "      <th></th>\n",
       "      <th>d</th>\n",
       "      <th>s</th>\n",
       "      <th>v</th>\n",
       "      <th>e</th>\n",
       "      <th>right_prediction</th>\n",
       "    </tr>\n",
       "  </thead>\n",
       "  <tbody>\n",
       "    <tr>\n",
       "      <th>0</th>\n",
       "      <td>1</td>\n",
       "      <td>0</td>\n",
       "      <td>101</td>\n",
       "      <td>1.0</td>\n",
       "      <td>False</td>\n",
       "    </tr>\n",
       "    <tr>\n",
       "      <th>1</th>\n",
       "      <td>2</td>\n",
       "      <td>0</td>\n",
       "      <td>100</td>\n",
       "      <td>0.0</td>\n",
       "      <td>True</td>\n",
       "    </tr>\n",
       "    <tr>\n",
       "      <th>2</th>\n",
       "      <td>3</td>\n",
       "      <td>1</td>\n",
       "      <td>99</td>\n",
       "      <td>0.0</td>\n",
       "      <td>False</td>\n",
       "    </tr>\n",
       "    <tr>\n",
       "      <th>3</th>\n",
       "      <td>4</td>\n",
       "      <td>1</td>\n",
       "      <td>100</td>\n",
       "      <td>1.0</td>\n",
       "      <td>True</td>\n",
       "    </tr>\n",
       "    <tr>\n",
       "      <th>4</th>\n",
       "      <td>5</td>\n",
       "      <td>0</td>\n",
       "      <td>99</td>\n",
       "      <td>0.0</td>\n",
       "      <td>True</td>\n",
       "    </tr>\n",
       "    <tr>\n",
       "      <th>...</th>\n",
       "      <td>...</td>\n",
       "      <td>...</td>\n",
       "      <td>...</td>\n",
       "      <td>...</td>\n",
       "      <td>...</td>\n",
       "    </tr>\n",
       "    <tr>\n",
       "      <th>245</th>\n",
       "      <td>246</td>\n",
       "      <td>1</td>\n",
       "      <td>102</td>\n",
       "      <td>1.0</td>\n",
       "      <td>True</td>\n",
       "    </tr>\n",
       "    <tr>\n",
       "      <th>246</th>\n",
       "      <td>247</td>\n",
       "      <td>1</td>\n",
       "      <td>103</td>\n",
       "      <td>1.0</td>\n",
       "      <td>True</td>\n",
       "    </tr>\n",
       "    <tr>\n",
       "      <th>247</th>\n",
       "      <td>248</td>\n",
       "      <td>1</td>\n",
       "      <td>102</td>\n",
       "      <td>0.0</td>\n",
       "      <td>False</td>\n",
       "    </tr>\n",
       "    <tr>\n",
       "      <th>248</th>\n",
       "      <td>249</td>\n",
       "      <td>0</td>\n",
       "      <td>103</td>\n",
       "      <td>1.0</td>\n",
       "      <td>False</td>\n",
       "    </tr>\n",
       "    <tr>\n",
       "      <th>249</th>\n",
       "      <td>250</td>\n",
       "      <td>0</td>\n",
       "      <td>102</td>\n",
       "      <td>0.0</td>\n",
       "      <td>True</td>\n",
       "    </tr>\n",
       "  </tbody>\n",
       "</table>\n",
       "<p>250 rows × 5 columns</p>\n",
       "</div>"
      ],
      "text/plain": [
       "       d  s    v    e  right_prediction\n",
       "0      1  0  101  1.0             False\n",
       "1      2  0  100  0.0              True\n",
       "2      3  1   99  0.0             False\n",
       "3      4  1  100  1.0              True\n",
       "4      5  0   99  0.0              True\n",
       "..   ... ..  ...  ...               ...\n",
       "245  246  1  102  1.0              True\n",
       "246  247  1  103  1.0              True\n",
       "247  248  1  102  0.0             False\n",
       "248  249  0  103  1.0             False\n",
       "249  250  0  102  0.0              True\n",
       "\n",
       "[250 rows x 5 columns]"
      ]
     },
     "execution_count": 4,
     "metadata": {},
     "output_type": "execute_result"
    }
   ],
   "source": [
    "data1[\"right_prediction\"]=(data1[\"s\"]==data1[\"e\"])\n",
    "data1"
   ]
  },
  {
   "cell_type": "markdown",
   "id": "7e9fc820-74dc-48e4-ae84-093b3f4f3880",
   "metadata": {},
   "source": [
    "estimation tau1"
   ]
  },
  {
   "cell_type": "code",
   "execution_count": 5,
   "id": "25c287f4-d9f4-4cd4-b903-535d6e7c161b",
   "metadata": {},
   "outputs": [
    {
     "name": "stdout",
     "output_type": "stream",
     "text": [
      "0.16434152140059877\n",
      "0.21999999999999997\n",
      "0.2756584785994012\n"
     ]
    }
   ],
   "source": [
    "p1=data1[\"right_prediction\"].mean()\n",
    "n=data1.shape[0]\n",
    "#alpha 5%, n*(1-p1)=250*0.28=70>>5\n",
    "pmax=p1+1.96*np.sqrt(p1*(1-p1)/n)\n",
    "pmin=p1-1.96*np.sqrt(p1*(1-p1)/n)\n",
    "print(pmin-0.5)\n",
    "print(p1-0.5)\n",
    "print(pmax-0.5)"
   ]
  },
  {
   "cell_type": "code",
   "execution_count": 6,
   "id": "9533735b-8a33-4586-958d-5df124d42954",
   "metadata": {},
   "outputs": [
    {
     "name": "stdout",
     "output_type": "stream",
     "text": [
      "0.3628116147164199\n",
      "0.4\n",
      "0.43718838528358017\n"
     ]
    }
   ],
   "source": [
    "col_data=[\"d\",\"s\",\"v\"]\n",
    "data2=pd.read_csv(\"Data2.csv\",names=col_data)\n",
    "data2[\"e\"]=(data2[\"v\"]-data2[\"v\"].shift(periods=1, fill_value=100)+1)/2\n",
    "data2[\"right_prediction\"]=(data2[\"s\"]==data2[\"e\"])\n",
    "p2=data2[\"right_prediction\"].mean()\n",
    "n=data2.shape[0]\n",
    "#alpha 5%, n*(1-p2)=250*0.1=25>>5\n",
    "pmax=p2+1.96*np.sqrt(p2*(1-p2)/n)\n",
    "pmin=p2-1.96*np.sqrt(p2*(1-p2)/n)\n",
    "print(pmin-0.5)\n",
    "print(p2-0.5)\n",
    "print(pmax-0.5)"
   ]
  },
  {
   "cell_type": "code",
   "execution_count": 7,
   "id": "d78d8ac7-5e3b-4d92-a977-92f67509cdd4",
   "metadata": {},
   "outputs": [
    {
     "data": {
      "text/plain": [
       "array([0.        , 0.5       , 0.33333333, 0.5       , 0.6       ,\n",
       "       0.5       , 0.57142857, 0.625     , 0.66666667, 0.6       ,\n",
       "       0.63636364, 0.66666667, 0.61538462, 0.57142857, 0.6       ,\n",
       "       0.625     , 0.64705882, 0.66666667, 0.68421053, 0.7       ,\n",
       "       0.71428571, 0.72727273, 0.69565217, 0.70833333, 0.72      ,\n",
       "       0.73076923, 0.74074074, 0.75      , 0.72413793, 0.73333333,\n",
       "       0.74193548, 0.75      , 0.72727273, 0.70588235, 0.71428571,\n",
       "       0.69444444, 0.7027027 , 0.71052632, 0.71794872, 0.725     ,\n",
       "       0.70731707, 0.71428571, 0.72093023, 0.72727273, 0.73333333,\n",
       "       0.73913043, 0.74468085, 0.75      , 0.75510204, 0.76      ,\n",
       "       0.76470588, 0.76923077, 0.77358491, 0.75925926, 0.74545455,\n",
       "       0.73214286, 0.73684211, 0.74137931, 0.72881356, 0.73333333,\n",
       "       0.73770492, 0.72580645, 0.73015873, 0.734375  , 0.73846154,\n",
       "       0.74242424, 0.73134328, 0.73529412, 0.73913043, 0.74285714,\n",
       "       0.74647887, 0.73611111, 0.73972603, 0.74324324, 0.74666667,\n",
       "       0.75      , 0.75324675, 0.75641026, 0.75949367, 0.7625    ,\n",
       "       0.7654321 , 0.76829268, 0.77108434, 0.77380952, 0.77647059,\n",
       "       0.77906977, 0.7816092 , 0.78409091, 0.78651685, 0.78888889,\n",
       "       0.79120879, 0.79347826, 0.79569892, 0.79787234, 0.8       ,\n",
       "       0.79166667, 0.78350515, 0.78571429, 0.77777778, 0.78      ,\n",
       "       0.78217822, 0.78431373, 0.78640777, 0.78846154, 0.78095238,\n",
       "       0.78301887, 0.78504673, 0.78703704, 0.77981651, 0.78181818,\n",
       "       0.78378378, 0.77678571, 0.77876106, 0.77192982, 0.77391304,\n",
       "       0.77586207, 0.76923077, 0.76271186, 0.76470588, 0.76666667,\n",
       "       0.76859504, 0.7704918 , 0.77235772, 0.77419355, 0.776     ,\n",
       "       0.76984127, 0.76377953, 0.765625  , 0.75968992, 0.76153846,\n",
       "       0.76335878, 0.75757576, 0.7593985 , 0.75373134, 0.75555556,\n",
       "       0.75      , 0.75182482, 0.74637681, 0.74820144, 0.74285714,\n",
       "       0.74468085, 0.74647887, 0.74825175, 0.75      , 0.75172414,\n",
       "       0.75342466, 0.75510204, 0.75675676, 0.75167785, 0.75333333,\n",
       "       0.74834437, 0.75      , 0.75163399, 0.75324675, 0.75483871,\n",
       "       0.75      , 0.75159236, 0.75316456, 0.75471698, 0.75625   ,\n",
       "       0.75776398, 0.75925926, 0.7607362 , 0.76219512, 0.76363636,\n",
       "       0.75903614, 0.76047904, 0.76190476, 0.76331361, 0.76470588,\n",
       "       0.76608187, 0.76744186, 0.76878613, 0.77011494, 0.77142857,\n",
       "       0.77272727, 0.7740113 , 0.7752809 , 0.77094972, 0.76666667,\n",
       "       0.7679558 , 0.76923077, 0.7704918 , 0.77173913, 0.77297297,\n",
       "       0.77419355, 0.77540107, 0.77659574, 0.77777778, 0.77894737,\n",
       "       0.78010471, 0.78125   , 0.78238342, 0.78350515, 0.77948718,\n",
       "       0.78061224, 0.78172589, 0.78282828, 0.7839196 , 0.785     ,\n",
       "       0.78606965, 0.78217822, 0.78325123, 0.78431373, 0.7804878 ,\n",
       "       0.7815534 , 0.7826087 , 0.77884615, 0.77511962, 0.77619048,\n",
       "       0.77725118, 0.77830189, 0.77934272, 0.78037383, 0.78139535,\n",
       "       0.78240741, 0.77880184, 0.77522936, 0.77625571, 0.77727273,\n",
       "       0.77375566, 0.77477477, 0.77130045, 0.77232143, 0.77333333,\n",
       "       0.77433628, 0.77092511, 0.76754386, 0.76855895, 0.76521739,\n",
       "       0.76623377, 0.76293103, 0.7639485 , 0.76495726, 0.76170213,\n",
       "       0.76271186, 0.76371308, 0.76470588, 0.76150628, 0.75833333,\n",
       "       0.7593361 , 0.76033058, 0.76131687, 0.75819672, 0.75510204,\n",
       "       0.75609756, 0.75303644, 0.75403226, 0.75502008, 0.752     ])"
      ]
     },
     "execution_count": 7,
     "metadata": {},
     "output_type": "execute_result"
    }
   ],
   "source": [
    "n=250\n",
    "S0=np.random.uniform(0.001)\n",
    "tau=0.22\n",
    "p=0.5+tau\n",
    "W=np.random.choice(2,n,p=[1-p,p])\n",
    "win_rate=np.divide(np.cumsum(W),np.arange(1,n+1))\n",
    "win_rate"
   ]
  },
  {
   "cell_type": "code",
   "execution_count": 8,
   "id": "339bb9be-876e-4d66-b03d-63465ba02b5c",
   "metadata": {},
   "outputs": [
    {
     "data": {
      "text/plain": [
       "[<matplotlib.lines.Line2D at 0x2171d4bbdf0>]"
      ]
     },
     "execution_count": 8,
     "metadata": {},
     "output_type": "execute_result"
    },
    {
     "data": {
      "image/png": "[encoded data removed]",
      "text/plain": [
       "<Figure size 432x288 with 1 Axes>"
      ]
     },
     "metadata": {
      "needs_background": "light"
     },
     "output_type": "display_data"
    }
   ],
   "source": [
    "X=np.arange(1,n+1)\n",
    "beta=0.025\n",
    "S=0.2*np.exp(-beta*X)+(1-np.exp(-beta*X))*win_rate\n",
    "plt.plot(X,S)"
   ]
  },
  {
   "cell_type": "code",
   "execution_count": 155,
   "id": "df4e1a5a-fb54-4322-8eaa-34fe4a106f30",
   "metadata": {},
   "outputs": [],
   "source": [
    "profit=W-S"
   ]
  },
  {
   "cell_type": "code",
   "execution_count": 156,
   "id": "b156cf70-2b51-4965-b268-0992cccc08cd",
   "metadata": {},
   "outputs": [
    {
     "data": {
      "text/plain": [
       "[<matplotlib.lines.Line2D at 0x1d76472fa30>]"
      ]
     },
     "execution_count": 156,
     "metadata": {},
     "output_type": "execute_result"
    },
    {
     "data": {
      "image/png": "[encoded data removed]",
      "text/plain": [
       "<Figure size 432x288 with 1 Axes>"
      ]
     },
     "metadata": {
      "needs_background": "light"
     },
     "output_type": "display_data"
    }
   ],
   "source": [
    "plt.plot(X,profit)"
   ]
  },
  {
   "cell_type": "code",
   "execution_count": 157,
   "id": "6993adb6-28be-4d85-b518-d2b2c1987d7e",
   "metadata": {},
   "outputs": [],
   "source": [
    "profit_cum=np.cumsum(profit)"
   ]
  },
  {
   "cell_type": "code",
   "execution_count": 158,
   "id": "34c95bf1-2448-4b36-b6ad-41dd385a0fd7",
   "metadata": {},
   "outputs": [
    {
     "data": {
      "text/plain": [
       "[<matplotlib.lines.Line2D at 0x1d76479ac10>]"
      ]
     },
     "execution_count": 158,
     "metadata": {},
     "output_type": "execute_result"
    },
    {
     "data": {
      "image/png": "[encoded data removed]",
      "text/plain": [
       "<Figure size 432x288 with 1 Axes>"
      ]
     },
     "metadata": {
      "needs_background": "light"
     },
     "output_type": "display_data"
    }
   ],
   "source": [
    "plt.plot(X,profit_cum)"
   ]
  },
  {
   "cell_type": "code",
   "execution_count": 10,
   "id": "ccef593e-f407-442e-a40c-6a733ff2f316",
   "metadata": {},
   "outputs": [],
   "source": [
    "def generate_dealer(n,tau):\n",
    "    S0=np.random.uniform(0.001)\n",
    "    p=0.5+tau\n",
    "    X=np.arange(1,n+1)\n",
    "    W=np.random.choice(2,n,p=[1-p,p]) #sortir w si plusieurs dealer\n",
    "    win_rate=np.divide(np.cumsum(W),X)\n",
    "    beta=0.025\n",
    "    S=0.2*np.exp(-beta*X)+(1-np.exp(-beta*X))*win_rate\n",
    "    profit=2*W-1-S\n",
    "    profit_cum=np.cumsum(profit)\n",
    "    return X,S,profit_cum,profit\n",
    "    "
   ]
  },
  {
   "cell_type": "code",
   "execution_count": 25,
   "id": "14739f42-873d-4edb-9270-7b2116f75d6e",
   "metadata": {},
   "outputs": [
    {
     "data": {
      "text/plain": [
       "[<matplotlib.lines.Line2D at 0x2171e0d0eb0>]"
      ]
     },
     "execution_count": 25,
     "metadata": {},
     "output_type": "execute_result"
    },
    {
     "data": {
      "image/png": "[encoded data removed]",
      "text/plain": [
       "<Figure size 432x288 with 1 Axes>"
      ]
     },
     "metadata": {
      "needs_background": "light"
     },
     "output_type": "display_data"
    }
   ],
   "source": [
    "X,S,profit_cum,profit=generate_dealer(n,0.22)\n",
    "plt.plot(X,profit_cum)"
   ]
  },
  {
   "cell_type": "code",
   "execution_count": 26,
   "id": "e8432f2e-8e0c-44a0-95da-4614082f9f88",
   "metadata": {},
   "outputs": [],
   "source": [
    "S_moy=np.zeros(250)\n",
    "profit_cum_moy=np.zeros(250)\n",
    "profit_moy=np.zeros(250)\n",
    "for _ in range(100000):\n",
    "    X,S,profit_cum,profit=generate_dealer(n,0.22)\n",
    "    S_moy+=S\n",
    "    profit_cum_moy+=profit_cum\n",
    "    profit_moy+=profit\n",
    "profit_cum_moy=profit_cum_moy/100000\n",
    "S_moy=S_moy/100000\n",
    "profit_moy=profit_moy/100000"
   ]
  },
  {
   "cell_type": "code",
   "execution_count": 27,
   "id": "7f05dc3e-2609-4d46-b933-a89a5a6502b3",
   "metadata": {},
   "outputs": [
    {
     "data": {
      "text/plain": [
       "[<matplotlib.lines.Line2D at 0x2171f10ba90>]"
      ]
     },
     "execution_count": 27,
     "metadata": {},
     "output_type": "execute_result"
    },
    {
     "data": {
      "image/png": "[encoded data removed]",
      "text/plain": [
       "<Figure size 432x288 with 1 Axes>"
      ]
     },
     "metadata": {
      "needs_background": "light"
     },
     "output_type": "display_data"
    }
   ],
   "source": [
    "plt.plot(X,profit_moy)"
   ]
  },
  {
   "cell_type": "code",
   "execution_count": 28,
   "id": "dcc3d230-03f1-46ee-82ec-2552cfa13023",
   "metadata": {},
   "outputs": [
    {
     "data": {
      "text/plain": [
       "[<matplotlib.lines.Line2D at 0x2171f169e50>]"
      ]
     },
     "execution_count": 28,
     "metadata": {},
     "output_type": "execute_result"
    },
    {
     "data": {
      "image/png": "[encoded data removed]",
      "text/plain": [
       "<Figure size 432x288 with 1 Axes>"
      ]
     },
     "metadata": {
      "needs_background": "light"
     },
     "output_type": "display_data"
    }
   ],
   "source": [
    "plt.plot(X,profit_cum_moy)"
   ]
  },
  {
   "cell_type": "code",
   "execution_count": 29,
   "id": "c0dfd049-e7b7-4910-9515-6f96260018b9",
   "metadata": {},
   "outputs": [
    {
     "data": {
      "text/plain": [
       "[<matplotlib.lines.Line2D at 0x2171f1cf190>]"
      ]
     },
     "execution_count": 29,
     "metadata": {},
     "output_type": "execute_result"
    },
    {
     "data": {
      "image/png": "[encoded data removed]",
      "text/plain": [
       "<Figure size 432x288 with 1 Axes>"
      ]
     },
     "metadata": {
      "needs_background": "light"
     },
     "output_type": "display_data"
    }
   ],
   "source": [
    "plt.plot(X,S_moy)"
   ]
  },
  {
   "cell_type": "code",
   "execution_count": 189,
   "id": "8aad7ffc-dd8c-4044-a2a3-50e74e42da12",
   "metadata": {},
   "outputs": [
    {
     "data": {
      "text/plain": [
       "16.779882020531737"
      ]
     },
     "execution_count": 189,
     "metadata": {},
     "output_type": "execute_result"
    }
   ],
   "source": [
    "profit_cum[-1]"
   ]
  },
  {
   "cell_type": "code",
   "execution_count": 190,
   "id": "34cee282-68fc-4375-9563-ac12c7644771",
   "metadata": {},
   "outputs": [
    {
     "data": {
      "text/plain": [
       "[<matplotlib.lines.Line2D at 0x1d766823370>]"
      ]
     },
     "execution_count": 190,
     "metadata": {},
     "output_type": "execute_result"
    },
    {
     "data": {
      "image/png": "[encoded data removed]",
      "text/plain": [
       "<Figure size 432x288 with 1 Axes>"
      ]
     },
     "metadata": {
      "needs_background": "light"
     },
     "output_type": "display_data"
    }
   ],
   "source": [
    "#esperance de S\n",
    "S_esp=0.2*np.exp(-beta*X)+(1-np.exp(-beta*X))*p\n",
    "plt.plot(X,S_esp)"
   ]
  },
  {
   "cell_type": "code",
   "execution_count": 200,
   "id": "2800d7b1-d161-4d2c-aeb3-bc8480eb788a",
   "metadata": {},
   "outputs": [
    {
     "data": {
      "text/plain": [
       "[<matplotlib.lines.Line2D at 0x1d766a5dfd0>]"
      ]
     },
     "execution_count": 200,
     "metadata": {},
     "output_type": "execute_result"
    },
    {
     "data": {
      "image/png": "[encoded data removed]",
      "text/plain": [
       "<Figure size 432x288 with 1 Axes>"
      ]
     },
     "metadata": {
      "needs_background": "light"
     },
     "output_type": "display_data"
    }
   ],
   "source": [
    "profit_cum_esp=X*(2*p-1)-np.cumsum(0.2*np.exp(-beta*X)+(1-np.exp(-beta*X))*p)\n",
    "plt.plot(X,profit_cum_esp)"
   ]
  },
  {
   "cell_type": "code",
   "execution_count": 182,
   "id": "054a3dde-5a14-4d51-807a-cca984653ac9",
   "metadata": {},
   "outputs": [
    {
     "data": {
      "text/plain": [
       "0.72"
      ]
     },
     "execution_count": 182,
     "metadata": {},
     "output_type": "execute_result"
    }
   ],
   "source": [
    "p"
   ]
  },
  {
   "cell_type": "code",
   "execution_count": 197,
   "id": "f8626c9b-f08e-4395-8111-97768a330d8f",
   "metadata": {},
   "outputs": [
    {
     "data": {
      "text/plain": [
       "array([  0.44,   0.88,   1.32,   1.76,   2.2 ,   2.64,   3.08,   3.52,\n",
       "         3.96,   4.4 ,   4.84,   5.28,   5.72,   6.16,   6.6 ,   7.04,\n",
       "         7.48,   7.92,   8.36,   8.8 ,   9.24,   9.68,  10.12,  10.56,\n",
       "        11.  ,  11.44,  11.88,  12.32,  12.76,  13.2 ,  13.64,  14.08,\n",
       "        14.52,  14.96,  15.4 ,  15.84,  16.28,  16.72,  17.16,  17.6 ,\n",
       "        18.04,  18.48,  18.92,  19.36,  19.8 ,  20.24,  20.68,  21.12,\n",
       "        21.56,  22.  ,  22.44,  22.88,  23.32,  23.76,  24.2 ,  24.64,\n",
       "        25.08,  25.52,  25.96,  26.4 ,  26.84,  27.28,  27.72,  28.16,\n",
       "        28.6 ,  29.04,  29.48,  29.92,  30.36,  30.8 ,  31.24,  31.68,\n",
       "        32.12,  32.56,  33.  ,  33.44,  33.88,  34.32,  34.76,  35.2 ,\n",
       "        35.64,  36.08,  36.52,  36.96,  37.4 ,  37.84,  38.28,  38.72,\n",
       "        39.16,  39.6 ,  40.04,  40.48,  40.92,  41.36,  41.8 ,  42.24,\n",
       "        42.68,  43.12,  43.56,  44.  ,  44.44,  44.88,  45.32,  45.76,\n",
       "        46.2 ,  46.64,  47.08,  47.52,  47.96,  48.4 ,  48.84,  49.28,\n",
       "        49.72,  50.16,  50.6 ,  51.04,  51.48,  51.92,  52.36,  52.8 ,\n",
       "        53.24,  53.68,  54.12,  54.56,  55.  ,  55.44,  55.88,  56.32,\n",
       "        56.76,  57.2 ,  57.64,  58.08,  58.52,  58.96,  59.4 ,  59.84,\n",
       "        60.28,  60.72,  61.16,  61.6 ,  62.04,  62.48,  62.92,  63.36,\n",
       "        63.8 ,  64.24,  64.68,  65.12,  65.56,  66.  ,  66.44,  66.88,\n",
       "        67.32,  67.76,  68.2 ,  68.64,  69.08,  69.52,  69.96,  70.4 ,\n",
       "        70.84,  71.28,  71.72,  72.16,  72.6 ,  73.04,  73.48,  73.92,\n",
       "        74.36,  74.8 ,  75.24,  75.68,  76.12,  76.56,  77.  ,  77.44,\n",
       "        77.88,  78.32,  78.76,  79.2 ,  79.64,  80.08,  80.52,  80.96,\n",
       "        81.4 ,  81.84,  82.28,  82.72,  83.16,  83.6 ,  84.04,  84.48,\n",
       "        84.92,  85.36,  85.8 ,  86.24,  86.68,  87.12,  87.56,  88.  ,\n",
       "        88.44,  88.88,  89.32,  89.76,  90.2 ,  90.64,  91.08,  91.52,\n",
       "        91.96,  92.4 ,  92.84,  93.28,  93.72,  94.16,  94.6 ,  95.04,\n",
       "        95.48,  95.92,  96.36,  96.8 ,  97.24,  97.68,  98.12,  98.56,\n",
       "        99.  ,  99.44,  99.88, 100.32, 100.76, 101.2 , 101.64, 102.08,\n",
       "       102.52, 102.96, 103.4 , 103.84, 104.28, 104.72, 105.16, 105.6 ,\n",
       "       106.04, 106.48, 106.92, 107.36, 107.8 , 108.24, 108.68, 109.12,\n",
       "       109.56, 110.  ])"
      ]
     },
     "execution_count": 197,
     "metadata": {},
     "output_type": "execute_result"
    }
   ],
   "source": [
    "X*(2*p-1)"
   ]
  },
  {
   "cell_type": "code",
   "execution_count": 199,
   "id": "fd6e5c1c-898c-4f44-83bc-c33994ce8c9c",
   "metadata": {},
   "outputs": [
    {
     "data": {
      "text/plain": [
       "array([  0.21283885,   0.43819955,   0.67577293,   0.92525747,\n",
       "         1.18635909,   1.45879094,   1.74227329,   2.0365333 ,\n",
       "         2.34130486,   2.65632845,   2.98135095,   3.31612548,\n",
       "         3.66041125,   4.01397344,   4.37658302,   4.7480166 ,\n",
       "         5.12805631,   5.51648967,   5.91310944,   6.3177135 ,\n",
       "         6.73010471,   7.15009081,   7.57748427,   8.01210222,\n",
       "         8.45376628,   8.90230248,   9.35754114,   9.81931678,\n",
       "        10.287468  ,  10.7618374 ,  11.24227143,  11.72862037,\n",
       "        12.22073817,  12.71848241,  13.22171416,  13.73029793,\n",
       "        14.2441016 ,  14.76299626,  15.28685624,  15.81555893,\n",
       "        16.34898477,  16.88701714,  17.42954231,  17.97644934,\n",
       "        18.52763006,  19.08297894,  19.64239307,  20.20577208,\n",
       "        20.77301808,  21.34403558,  21.91873148,  22.49701495,\n",
       "        23.07879741,  23.66399247,  24.25251588,  24.84428546,\n",
       "        25.43922106,  26.03724451,  26.63827957,  27.24225189,\n",
       "        27.84908894,  28.45871999,  29.07107607,  29.68608988,\n",
       "        30.30369581,  30.92382985,  31.5464296 ,  32.17143417,\n",
       "        32.79878418,  33.42842173,  34.06029034,  34.69433491,\n",
       "        35.33050174,  35.96873841,  36.60899383,  37.25121815,\n",
       "        37.89536275,  38.54138024,  39.18922435,  39.83885001,\n",
       "        40.49021321,  41.14327106,  41.79798172,  42.45430437,\n",
       "        43.11219923,  43.77162747,  44.43255123,  45.09493359,\n",
       "        45.75873853,  46.42393093,  47.09047654,  47.75834194,\n",
       "        48.42749455,  49.09790259,  49.76953505,  50.44236172,\n",
       "        51.11635309,  51.79148043,  52.46771567,  53.14503147,\n",
       "        53.82340115,  54.50279869,  55.1831987 ,  55.86457644,\n",
       "        56.54690776,  57.23016913,  57.91433758,  58.59939071,\n",
       "        59.28530669,  59.9720642 ,  60.65964247,  61.34802124,\n",
       "        62.03718074,  62.72710169,  63.4177653 ,  64.10915323,\n",
       "        64.80124759,  65.49403094,  66.18748627,  66.881597  ,\n",
       "        67.57634693,  68.27172029,  68.96770168,  69.6642761 ,\n",
       "        70.36142889,  71.05914579,  71.75741285,  72.45621651,\n",
       "        73.1555435 ,  73.85538091,  74.55571614,  75.25653689,\n",
       "        75.95783118,  76.65958732,  77.3617939 ,  78.0644398 ,\n",
       "        78.76751417,  79.47100644,  80.17490629,  80.87920365,\n",
       "        81.58388871,  82.28895189,  82.99438387,  83.70017554,\n",
       "        84.40631801,  85.11280262,  85.81962093,  86.5267647 ,\n",
       "        87.23422588,  87.94199666,  88.65006937,  89.35843657,\n",
       "        90.06709098,  90.77602552,  91.48523326,  92.19470747,\n",
       "        92.90444156,  93.61442911,  94.32466387,  95.03513974,\n",
       "        95.74585076,  96.45679113,  97.16795518,  97.87933738,\n",
       "        98.59093237,  99.30273487, 100.01473977, 100.72694207,\n",
       "       101.4393369 , 102.1519195 , 102.86468523, 103.57762958,\n",
       "       104.29074813, 105.00403659, 105.71749076, 106.43110654,\n",
       "       107.14487995, 107.8588071 , 108.57288418, 109.2871075 ,\n",
       "       110.00147345, 110.7159785 , 111.43061923, 112.14539227,\n",
       "       112.86029437, 113.57532234, 114.29047307, 115.00574352,\n",
       "       115.72113075, 116.43663187, 117.15224407, 117.8679646 ,\n",
       "       118.58379079, 119.29972003, 120.01574978, 120.73187756,\n",
       "       121.44810094, 122.16441757, 122.88082514, 123.59732141,\n",
       "       124.31390418, 125.03057133, 125.74732077, 126.46415046,\n",
       "       127.18105842, 127.89804273, 128.6151015 , 129.33223289,\n",
       "       130.0494351 , 130.76670639, 131.48404505, 132.20144942,\n",
       "       132.91891788, 133.63644884, 134.35404077, 135.07169214,\n",
       "       135.78940151, 136.50716743, 137.22498851, 137.94286339,\n",
       "       138.66079074, 139.37876926, 140.09679769, 140.8148748 ,\n",
       "       141.53299939, 142.25117028, 142.96938634, 143.68764643,\n",
       "       144.40594949, 145.12429444, 145.84268026, 146.56110593,\n",
       "       147.27957047, 147.99807293, 148.71661235, 149.43518784,\n",
       "       150.1537985 , 150.87244347, 151.59112188, 152.30983293,\n",
       "       153.02857581, 153.74734972, 154.4661539 , 155.18498761,\n",
       "       155.90385012, 156.6227407 , 157.34165869, 158.06060338,\n",
       "       158.77957413, 159.4985703 ])"
      ]
     },
     "execution_count": 199,
     "metadata": {},
     "output_type": "execute_result"
    }
   ],
   "source": [
    "np.cumsum(0.2*np.exp(-beta*X)+(1-np.exp(-beta*X))*p)"
   ]
  },
  {
   "cell_type": "code",
   "execution_count": 201,
   "id": "02a8f450-8d68-4b1b-b8b0-beb5426da5cd",
   "metadata": {},
   "outputs": [
    {
     "data": {
      "text/plain": [
       "array([0.26271488, 0.28486893, 0.30647599, 0.32754958, 0.34810285,\n",
       "       0.36814866, 0.38769954, 0.40676771, 0.42536508, 0.44350328,\n",
       "       0.46119365, 0.47844724, 0.49527483, 0.51168696, 0.52769386,\n",
       "       0.54330556, 0.5585318 , 0.5733821 , 0.58786575, 0.60199179,\n",
       "       0.61576906, 0.62920617, 0.64231152, 0.65509329, 0.66755949,\n",
       "       0.67971789, 0.69157609, 0.70314152, 0.7144214 , 0.72542277,\n",
       "       0.73615252, 0.74661735, 0.75682381, 0.76677826, 0.77648694,\n",
       "       0.78595591, 0.79519109, 0.80419826, 0.81298303, 0.82155091,\n",
       "       0.82990725, 0.83805727, 0.84600607, 0.8537586 , 0.86131973,\n",
       "       0.86869417, 0.87588654, 0.88290133, 0.88974292, 0.89641559,\n",
       "       0.90292351, 0.90927075, 0.91546128, 0.92149896, 0.92738757,\n",
       "       0.93313079, 0.93873221, 0.94419533, 0.94952357, 0.95472025,\n",
       "       0.95978863, 0.96473186, 0.96955305, 0.9742552 , 0.97884126,\n",
       "       0.98331408, 0.98767647, 0.99193116, 0.99608079, 1.00012797,\n",
       "       1.00407523, 1.00792502, 1.01167977, 1.01534181, 1.01891343,\n",
       "       1.02239687, 1.0257943 , 1.02910785, 1.03233959, 1.03549154,\n",
       "       1.03856566, 1.04156389, 1.04448809, 1.04734009, 1.05012167,\n",
       "       1.05283457, 1.0554805 , 1.05806109, 1.06057797, 1.06303271,\n",
       "       1.06542684, 1.06776186, 1.07003923, 1.07226037, 1.07442667,\n",
       "       1.07653948, 1.07860013, 1.0806099 , 1.08257005, 1.0844818 ,\n",
       "       1.08634635, 1.08816487, 1.08993848, 1.09166831, 1.09335542,\n",
       "       1.09500088, 1.09660572, 1.09817093, 1.09969749, 1.10118637,\n",
       "       1.10263848, 1.10405474, 1.10543604, 1.10678322, 1.10809715,\n",
       "       1.10937864, 1.11062848, 1.11184747, 1.11303636, 1.1141959 ,\n",
       "       1.1153268 , 1.11642979, 1.11750554, 1.11855473, 1.11957802,\n",
       "       1.12057604, 1.12154942, 1.12249877, 1.12342468, 1.12432773,\n",
       "       1.12520848, 1.12606749, 1.12690528, 1.12772239, 1.12851933,\n",
       "       1.12929659, 1.13005466, 1.13079401, 1.13151511, 1.13221841,\n",
       "       1.13290434, 1.13357333, 1.13422581, 1.13486218, 1.13548283,\n",
       "       1.13608816, 1.13667855, 1.13725436, 1.13781595, 1.13836367,\n",
       "       1.13889788, 1.13941889, 1.13992704, 1.14042264, 1.14090601,\n",
       "       1.14137744, 1.14183723, 1.14228567, 1.14272304, 1.14314961,\n",
       "       1.14356565, 1.14397142, 1.14436716, 1.14475314, 1.14512958,\n",
       "       1.14549674, 1.14585482, 1.14620407, 1.14654469, 1.1468769 ,\n",
       "       1.14720092, 1.14751693, 1.14782513, 1.14812573, 1.14841891,\n",
       "       1.14870485, 1.14898373, 1.14925572, 1.149521  , 1.14977972,\n",
       "       1.15003206, 1.15027817, 1.1505182 , 1.15075231, 1.15098064,\n",
       "       1.15120333, 1.15142052, 1.15163235, 1.15183894, 1.15204044,\n",
       "       1.15223696, 1.15242863, 1.15261557, 1.15279789, 1.15297571,\n",
       "       1.15314914, 1.15331829, 1.15348326, 1.15364416, 1.15380109,\n",
       "       1.15395414, 1.15410341, 1.154249  , 1.15439099, 1.15452948,\n",
       "       1.15466455, 1.15479628, 1.15492476, 1.15505007, 1.15517228,\n",
       "       1.15529148, 1.15540773, 1.15552112, 1.1556317 , 1.15573955,\n",
       "       1.15584475, 1.15594734, 1.1560474 , 1.15614499, 1.15624017,\n",
       "       1.156333  , 1.15642354, 1.15651184, 1.15659797, 1.15668196,\n",
       "       1.15676388, 1.15684378, 1.15692171, 1.15699771, 1.15707184,\n",
       "       1.15714414, 1.15721465, 1.15728342, 1.15735049, 1.15741591,\n",
       "       1.15747971, 1.15754194, 1.15760263, 1.15766182, 1.15771955,\n",
       "       1.15777585, 1.15783077, 1.15788433, 1.15793656, 1.15798751,\n",
       "       1.1580372 , 1.15808566, 1.15813292, 1.15817902, 1.15822398])"
      ]
     },
     "execution_count": 201,
     "metadata": {},
     "output_type": "execute_result"
    }
   ],
   "source": [
    "np.ones(n)*(2*p-1)-0.2*np.exp(-beta*X)+(1-np.exp(-beta*X))*p"
   ]
  },
  {
   "cell_type": "code",
   "execution_count": 203,
   "id": "7a7a2d9c-a01e-4ffc-ab54-75c56e736336",
   "metadata": {},
   "outputs": [
    {
     "data": {
      "text/plain": [
       "array([0.21283885, 0.2253607 , 0.23757339, 0.24948454, 0.26110161,\n",
       "       0.27243185, 0.28348235, 0.29426001, 0.30477157, 0.31502359,\n",
       "       0.3250225 , 0.33477453, 0.34428578, 0.35356219, 0.36260958,\n",
       "       0.37143358, 0.38003971, 0.38843336, 0.39661977, 0.40460406,\n",
       "       0.41239121, 0.4199861 , 0.42739347, 0.43461795, 0.44166406,\n",
       "       0.4485362 , 0.45523866, 0.46177564, 0.46815122, 0.47436939,\n",
       "       0.48043403, 0.48634894, 0.4921178 , 0.49774424, 0.50323175,\n",
       "       0.50858378, 0.51380366, 0.51889467, 0.52385998, 0.52870269,\n",
       "       0.53342584, 0.53803237, 0.54252517, 0.54690704, 0.55118072,\n",
       "       0.55534888, 0.55941413, 0.56337901, 0.567246  , 0.57101751,\n",
       "       0.5746959 , 0.57828347, 0.58178246, 0.58519506, 0.58852341,\n",
       "       0.59176958, 0.5949356 , 0.59802345, 0.60103506, 0.60397232,\n",
       "       0.60683705, 0.60963105, 0.61235607, 0.61501381, 0.61760593,\n",
       "       0.62013405, 0.62259975, 0.62500457, 0.62735001, 0.62963755,\n",
       "       0.63186861, 0.63404458, 0.63616683, 0.63823667, 0.64025542,\n",
       "       0.64222432, 0.64414461, 0.64601748, 0.64784412, 0.64962565,\n",
       "       0.6513632 , 0.65305785, 0.65471066, 0.65632266, 0.65789486,\n",
       "       0.65942824, 0.66092376, 0.66238236, 0.66380494, 0.6651924 ,\n",
       "       0.66654561, 0.6678654 , 0.66915261, 0.67040804, 0.67163247,\n",
       "       0.67282666, 0.67399138, 0.67512734, 0.67623525, 0.6773158 ,\n",
       "       0.67836968, 0.67939753, 0.68040001, 0.68137774, 0.68233133,\n",
       "       0.68326137, 0.68416845, 0.68505313, 0.68591597, 0.68675751,\n",
       "       0.68757827, 0.68837877, 0.6891595 , 0.68992095, 0.69066361,\n",
       "       0.69138793, 0.69209436, 0.69278335, 0.69345533, 0.69411072,\n",
       "       0.69474993, 0.69537336, 0.69598139, 0.69657441, 0.69715279,\n",
       "       0.69771689, 0.69826707, 0.69880365, 0.69932699, 0.69983741,\n",
       "       0.70033523, 0.70082075, 0.70129429, 0.70175614, 0.70220658,\n",
       "       0.7026459 , 0.70307437, 0.70349227, 0.70389985, 0.70429736,\n",
       "       0.70468506, 0.70506319, 0.70543198, 0.70579166, 0.70614247,\n",
       "       0.70648461, 0.70681831, 0.70714377, 0.70746119, 0.70777077,\n",
       "       0.70807271, 0.7083672 , 0.70865441, 0.70893454, 0.70920774,\n",
       "       0.70947421, 0.70973409, 0.70998756, 0.71023476, 0.71047587,\n",
       "       0.71071102, 0.71094037, 0.71116405, 0.71138221, 0.71159498,\n",
       "       0.7118025 , 0.7120049 , 0.7122023 , 0.71239483, 0.7125826 ,\n",
       "       0.71276573, 0.71294435, 0.71311855, 0.71328846, 0.71345417,\n",
       "       0.71361578, 0.71377341, 0.71392715, 0.71407708, 0.71422332,\n",
       "       0.71436595, 0.71450505, 0.71464072, 0.71477305, 0.7149021 ,\n",
       "       0.71502797, 0.71515073, 0.71527046, 0.71538723, 0.71550112,\n",
       "       0.7156122 , 0.71572053, 0.71582619, 0.71592924, 0.71602975,\n",
       "       0.71612778, 0.71622338, 0.71631663, 0.71640757, 0.71649627,\n",
       "       0.71658278, 0.71666715, 0.71674944, 0.71682969, 0.71690797,\n",
       "       0.71698431, 0.71705877, 0.71713139, 0.71720221, 0.71727129,\n",
       "       0.71733866, 0.71740437, 0.71746846, 0.71753096, 0.71759192,\n",
       "       0.71765138, 0.71770937, 0.71776592, 0.71782108, 0.71787488,\n",
       "       0.71792735, 0.71797852, 0.71802843, 0.71807711, 0.71812459,\n",
       "       0.71817089, 0.71821605, 0.7182601 , 0.71830306, 0.71834495,\n",
       "       0.71838582, 0.71842567, 0.71846454, 0.71850245, 0.71853943,\n",
       "       0.71857549, 0.71861066, 0.71864496, 0.71867842, 0.71871105,\n",
       "       0.71874287, 0.71877391, 0.71880418, 0.71883371, 0.7188625 ,\n",
       "       0.71889059, 0.71891798, 0.7189447 , 0.71897075, 0.71899616])"
      ]
     },
     "execution_count": 203,
     "metadata": {},
     "output_type": "execute_result"
    }
   ],
   "source": [
    "0.2*np.exp(-beta*X)+(1-np.exp(-beta*X))*p"
   ]
  },
  {
   "cell_type": "code",
   "execution_count": 206,
   "id": "8a30282e-ede6-4c28-ad8d-6e56a25754b6",
   "metadata": {},
   "outputs": [
    {
     "data": {
      "text/plain": [
       "109.99999999999997"
      ]
     },
     "execution_count": 206,
     "metadata": {},
     "output_type": "execute_result"
    }
   ],
   "source": [
    "(np.ones(n)*(2*p-1)).sum()"
   ]
  },
  {
   "cell_type": "code",
   "execution_count": 208,
   "id": "e0735ffb-9237-4b9e-a788-0f77c196271e",
   "metadata": {},
   "outputs": [
    {
     "data": {
      "text/plain": [
       "159.4985702972129"
      ]
     },
     "execution_count": 208,
     "metadata": {},
     "output_type": "execute_result"
    }
   ],
   "source": [
    "(0.2*np.exp(-beta*X)+(1-np.exp(-beta*X))*p).sum()"
   ]
  },
  {
   "cell_type": "code",
   "execution_count": null,
   "id": "92ddbc6f-51b0-44fd-9b58-4a58b6d2b2c1",
   "metadata": {},
   "outputs": [],
   "source": []
  }
 ],
 "metadata": {
  "kernelspec": {
   "display_name": "Python 3 (ipykernel)",
   "language": "python",
   "name": "python3"
  },
  "language_info": {
   "codemirror_mode": {
    "name": "ipython",
    "version": 3
   },
   "file_extension": ".py",
   "mimetype": "text/x-python",
   "name": "python",
   "nbconvert_exporter": "python",
   "pygments_lexer": "ipython3",
   "version": "3.8.5"
  }
 },
 "nbformat": 4,
 "nbformat_minor": 5
}
